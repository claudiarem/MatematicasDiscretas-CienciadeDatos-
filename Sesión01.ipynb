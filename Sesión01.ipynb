{
 "cells": [
  {
   "cell_type": "markdown",
   "id": "9d4fb2ce-ddd8-4dd3-8312-545e8113fb21",
   "metadata": {},
   "source": [
    "# Matemáticas Discretas (Licenciatura en Ciencia de Datos)"
   ]
  },
  {
   "cell_type": "markdown",
   "id": "ebc47c2c-2f88-4288-bce1-fe523779dea6",
   "metadata": {},
   "source": [
    "Profesora: Claudia Reyes\n",
    "\n",
    "Horario: Martes (14-16 hrs), Jueves (13-15 hrs) y Viernes (14-18 hrs)\n",
    "\n",
    "Salón: A-1523"
   ]
  },
  {
   "cell_type": "markdown",
   "id": "cdf8c659-fd93-48e1-aa22-fc8263165913",
   "metadata": {},
   "source": [
    "## Evaluación\n",
    "\n",
    "Se evaluará con 2 exámenes parciales (el 1ro es colegiado), 2 tareas y un proyecto. El Periodo 1 (Tarea 1 y Examen 1) tiene un valor de 40% y el Periodo 2 (Tarea 2, Examen 2 y Proyecto) tiene un valor de 60% de la calificación. \n",
    "\n",
    "Nota: La Tarea $i$ da derecho al Examen $i$ para $i\\in\\{1,2\\}$. \n",
    "\n",
    "Fecha estimada del Examen parcial 1: viernes de la semana 8.\n",
    "\n",
    "Fecha estimada del Examen parcial 2: viernes de la semana 16."
   ]
  },
  {
   "cell_type": "markdown",
   "id": "ad31778e-76e1-431f-b63e-f001a8a8e963",
   "metadata": {},
   "source": [
    "## Bibliografía\n",
    "\n",
    "**Parte de Recursión**\n",
    "\n",
    "* Concrete Mathematics: A fundation for computer science, Graham, Knuth, Patashnik, Segunda edición 1994.\n",
    "* Cormen, T. Introduction to algorithms. Cambridge, Mass.: MIT Press.\n",
    "\n",
    "**Parte de Gráficas**\n",
    "\n",
    "* Chromatic Graph Theory, Chartrand y Zhang, 2009.\n",
    "* The Fascinating World of Graph Theory, Benjamin, Chartrand, Zhang, 2015.\n",
    "* Matemáticas Discretas, Comellas, Fàbrega, Sànchez, Serra, 2002.\n",
    "\n",
    "**Parte de Algoritmos**\n",
    "\n",
    "* Cormen, T. Introduction to algorithms. Cambridge, Mass.: MIT Press."
   ]
  }
 ],
 "metadata": {
  "kernelspec": {
   "display_name": "Python 3 (ipykernel)",
   "language": "python",
   "name": "python3"
  },
  "language_info": {
   "codemirror_mode": {
    "name": "ipython",
    "version": 3
   },
   "file_extension": ".py",
   "mimetype": "text/x-python",
   "name": "python",
   "nbconvert_exporter": "python",
   "pygments_lexer": "ipython3",
   "version": "3.12.4"
  }
 },
 "nbformat": 4,
 "nbformat_minor": 5
}
