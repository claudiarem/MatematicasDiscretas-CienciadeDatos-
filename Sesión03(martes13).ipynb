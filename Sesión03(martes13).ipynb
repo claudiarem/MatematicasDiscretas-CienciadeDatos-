{
 "cells": [
  {
   "cell_type": "markdown",
   "id": "4e499c76-97d7-467c-a8ea-31470dc9ce5e",
   "metadata": {},
   "source": [
    "# Principio de las casillas"
   ]
  },
  {
   "cell_type": "markdown",
   "id": "54616c9a-21a5-41bd-9088-cbaaa38ce11c",
   "metadata": {},
   "source": [
    "El principio de casillas, o principio de los palomares, de manera general: \n",
    "\n",
    "**Principio**\n",
    "Si se dispone de $n$ casillas para colocar $m$ objetos con $m>n$, entonces en alguna casilla deberán colocarse por lo menos dos objetos.\n",
    ".\n",
    "\n",
    "El principio de las casillas es una idea sencilla. A grandes rasgos, nos dice que si hay muchos elementos que se deben repartir en pocas casillas, entonces debe haber una casilla con muchos objetos\n",
    "\n",
    "Un ejemplo muy sencillo es que si tenemos 13 personas, entonces debe haber por lo menos dos que compartan el mismo mes de cumpleaños. Aunque la idea de principio de las casillas sea simple, se presta a muchas aplicaciones y generalizaciones."
   ]
  },
  {
   "cell_type": "markdown",
   "id": "a1b5a4e3-7958-4e78-8153-756855aa419d",
   "metadata": {},
   "source": [
    "## Principio de las casillas (primera versión)\n",
    "\n",
    "El principio de las casillas, en su versión más básica, dice lo siguiente:\n",
    "\n",
    "**Proposición.** Si $n+1$ objetos se deben acomodar en $n$ casillas, entonces en alguna casilla deberán colocarse al menos dos objetos.\n",
    "\n",
    "**Ejemplos.** \n",
    "* Caso $n=2$: en un grupo de tres personas, siempre hay al menos dos del mismo sexo.\n",
    "* Caso $n=12$: en un grupo de trece personas, siempre hay al menos dos que nacieron el mismo mes.\n",
    "* Caso $n=365$: en un grupo de 366 personas, siempre hay al menos dos que cumplen años el mismo día del año (mes y día)."
   ]
  },
  {
   "cell_type": "markdown",
   "id": "0e832d53-cd9e-4f68-85e3-0bcc5e0f6694",
   "metadata": {},
   "source": [
    "## Principio de las casillas (segunda versión)\n",
    "\n",
    "**Proposición.** Si $nk+1$ objetos se deben de acomodar en $n$ casillas, entonces en alguna casilla deberán colocarse más de $k$ objetos.\n",
    "\n",
    "**Ejemplos.** \n",
    "* Caso $n=2,k=8$: en un grupo de $17$ personas, siempre hay al menos $9$ personas del mismo sexo.\n",
    "* Caso $n=12, k=3$: en un grupo de $37$ personas, siempre hay al menos $3$ que nacieron el mismo mes.\n",
    "* Caso $n=365, k=11$: en un grupo de $4016$ personas, siempre hay al menos $12$ que cumplen años el mismo día del año (mes y día).\n",
    "\n",
    "**Problema.** Un costal está lleno de canicas de $20$ colores distintos. Al azar se van sacando canicas del costal. ¿cuál es el mínimo números de canicas que deben sacarse para poder garantizar que en la colección tomada habrá al menos $100$ canicas del mismo color?\n",
    "\n",
    "**Solución.**  Si se sacan $20$ canicas,  en el peor de los casos las $20$ canicas son de distintos colores, por lo que para asegurar tener $100$ canicas de un mismo color, es necesario considerar el peor de los casos el cual sería obtener $99$ canicas de los $20$ colores distintos antes de obtener $100$ canicas de un mismo color, sin embargo al sacar $20 \\cdot 99 + 1 = 1981$ canicas, se asegura que incluso en el peor de los casos con $1981$ canicas siempre habrá al menos 100 del mismo color."
   ]
  },
  {
   "cell_type": "markdown",
   "id": "6e66197c-78a6-4ce4-acaf-27dd8288105c",
   "metadata": {},
   "source": [
    "## Principio de las casillas (tercera versión)\n",
    "\n",
    "**Proposición.** \n",
    "* Si $m$ objetos se deben acomodar en $n$ casillas, entonces en alguna casilla deberán quedar al menos $\\left\\lceil \\frac{m}{n} \\right\\rceil$ objetos.\n",
    "* Si $m$ objetos se deben acomodar en $n$ casillas, entonces en alguna casilla deberán quedar a lo más $\\left\\lfloor \\frac{m}{n} \\right\\rfloor$ objetos.\n",
    "  \n",
    "Donde: \n",
    "* $\\left\\lceil x \\right\\rceil$ es igual al menor entero que es mayor o igual a $x$.\n",
    "* $\\left\\lfloor x \\right\\rfloor$ es igual al mayor entero que es menor o igual a $x$.\n",
    "\n",
    "*Observación:* si $m=nk+1$, entonces se tiene que \n",
    "$$\\left\\lceil \\frac{m}{n} \\right\\rceil = \\left\\lceil \\frac{nk+1}{n} \\right\\rceil = \\left\\lceil k+\\frac{1}{n} \\right\\rceil = k+1$$\n",
    "y por lo tanto la tercera versión generaliza a la segunda versión.\n",
    "\n",
    "**Problema.** La selección de $16$ alumnos de las olimpiadas de matemáticas, para su preparación resolvió $59$ problemas. Cada problema fue resuelto solamente por un alumno, además hay cuatro alumnos que resolvieron exactamente $1,2,3$ o $4$ problemas respectivamente. Muestre que algún alumno resolvió al menos $5$ problemas.\n",
    "\n",
    "**Solución.** Los cuatro alumnos que se mencionaron resuelven $1+2+3+4=10$ problemas entre ellos. Por lo que luego quedan $49$ problemas para ser resueltos por $12$ alumnos. Como $\\left\\lfloor \\frac{49}{12} \\right\\rfloor = 5$, algún alumno deberá resolver $5$ o más."
   ]
  },
  {
   "cell_type": "markdown",
   "id": "e59a4293-76b8-4572-835d-4afa50963761",
   "metadata": {},
   "source": [
    "## Principio de las casillas (versión infinita)\n",
    "\n",
    "**Proposición.** Si tenemos una infinidad de objetos que se deben de acomodar en  una cantidad finita de casillas, entonces en alguna casilla deberán colocarse una infinidad de objetos.\n",
    "\n",
    "**Problema.** Sea el numero $\\pi$: \n",
    "$$3.1415926535897932384626433$$\n",
    "\n",
    "Notemos que el numero $5$ aparece tres veces, entonces podemos preguntarnos lo siguiente:\n",
    "\n",
    "**¿Será que aparece una infinidad de veces en la expresión decimal de $\\pi$?**\n",
    "\n",
    "Nadie lo sabe, es una pregunta abierta. De hecho, para niguno de los dígitos se sabe si llegan a aparcer una infinidad de veces en la expresión decimal de $\\pi$ o no. Sin embargo, sí hay algo que podemos decir. Como hay una infinidad de dígitos y únicamente existen los dígitos del $0$ al $9$, entonces por el principio de las casillas debe existir uno de ellos que se repite una infinidad de veces dentro de la expresión decimal de $\\pi$."
   ]
  }
 ],
 "metadata": {
  "kernelspec": {
   "display_name": "Python 3 (ipykernel)",
   "language": "python",
   "name": "python3"
  },
  "language_info": {
   "codemirror_mode": {
    "name": "ipython",
    "version": 3
   },
   "file_extension": ".py",
   "mimetype": "text/x-python",
   "name": "python",
   "nbconvert_exporter": "python",
   "pygments_lexer": "ipython3",
   "version": "3.9.13"
  }
 },
 "nbformat": 4,
 "nbformat_minor": 5
}
