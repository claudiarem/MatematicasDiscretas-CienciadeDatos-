{
 "cells": [
  {
   "cell_type": "markdown",
   "id": "1d9dfe5e",
   "metadata": {},
   "source": [
    "# Teoría de Gráficas\n",
    "\n",
    "![alt text](https://miro.medium.com/v2/resize:fit:1400/format:webp/1*heR0By4G5GbpJ6ZaftJLRQ.gif)\n",
    "\n",
    "La teoría de gráficas se considera una de las ramas más modernas de las matemáticas, aunque en realidad se remonta al año 1736, donde **Leonhard Euler** publicó el primer artículo sobre lo que ahora se llama teoría de gráficas. \n",
    "\n",
    "La idea de gráfica es muy simple y por ellos es que se han encontrado muchas aplicaciones en los últimos años en campos tan diversos como la química, la informática, la economía, la electrónica y la lingüística.\n",
    "\n",
    "Una gráfico es una colección de pares: pares de números enteros, pares de personas, pares de ciudades, pares de estrellas, pares de países, pares de artículos científicos, pares de páginas web, pares de posiciones de juegos, pares de subproblemas recursivos e incluso pares de\n",
    "gráficas.\n",
    "\n",
    "Uno de los primeros ejemplos de gráfica son las redes de carreteras y sus mapas, los romanos construyeron una red de más de kilómetros de vías públicas a lo largo de Europa, Asia occidental y central y el norte de África durante el apogeo del imperio romano.\n",
    "\n",
    "<img src=\"graf01.png\" alt=\"Figura 1\" width=\"800\"/>\n",
    "\n",
    "Otra de las aplicaciones clásicas más antiguas de las gráficas, es la representación de genealogías (se hace mediante árboles). Durante siglos se han utilizado complejos \"árboles\" genealógicos para resolver cuestiones legales sobre el matrimonio, la herencia y la sucesión real.\n",
    "\n",
    "<img src=\"graf02.png\" alt=\"Figura 1\" width=\"800\"/>"
   ]
  },
  {
   "cell_type": "markdown",
   "id": "e7f1ae5c",
   "metadata": {},
   "source": [
    "## Los puentes de Königsberg\n",
    "\n",
    "En la ciudad de Königbserg (hoy llamada Kalingrado) pasa el río Pregel, el cual rodea dos islas ($A$ y $D$) comunicadas entre sí mediante un puente. Cada ribera ($B$ y $C$) se conecta con $A$ a través de dos puentes, y con $D$ por medio de uno. El problema que se planteaban los habitantes de la ciudad consistía en encontrar un camino que comience y termine en una de las dos riberas, durante el cual se utilicen los siete puentes y no se pase dos veces por ninguno de ellos.\n",
    "\n",
    "<img src=\"puenteK01.png\" alt=\"Figura 1\" width=\"800\"/>\n",
    "\n",
    "Euler en 1736 publicó la respuesta a esta pregunta, él representaba a cada una de las islas y a las dos riberas por un vértice y puso una arista por cada puente. De esta forma obtuvo el diagrama que aparece en la siguiente figura:\n",
    "\n",
    "<img src=\"puenteK02.png\" alt=\"Figura 1\" width=\"500\"/>\n",
    "\n",
    "No es difícil ver que resolver el problema de los Puentes de Königsberg es equivalente a realizar el dibujo anterior.\n",
    "\n",
    "Después de un estudio minucioso sobre las condiciones que tiene que cumplir el diagrama para que exist paseo con estas características, Euler deduce que para que dicho recorrido sea posible es necesario que todos los vértices en el diagrama sean incidentes con un número par de líneas. Como en el diagrama todos los vértices tienen un número impar de líneas se concluye que no existe una solución al problema de los puentes de Königsberg. El análisis y la solución a este problema se detallaran más adelante."
   ]
  },
  {
   "cell_type": "markdown",
   "id": "d08683b7-5c4b-433b-9a41-93eba8aa6bc9",
   "metadata": {},
   "source": [
    "## ¿Qué es una gráfica?\n",
    "\n",
    "Intuitivamente, una gráfica es simplemente una colección de puntos, llamados *vértices*, y una colección de líneas, llamadas *aristas*, cada una de las cuales une un par de puntos o un solo punto a sí mismo. \n",
    "\n",
    "Para definir un gráfico, primero necesitamos especificar el conjunto de sus vértices y el conjunto de sus aristas. Entonces necesitamos decir qué aristas unen que vértices. \n",
    "\n",
    "Se define que una arista tiene un vértice en cada extremo, por lo que debemos asociar con cada arista del gráfico sus vértices finales. Los puntos finales de una arista son un par de vértices (si la arista une dos vértices diferentes) o un solo vértice (si la arista une un vértice consigo misma). \n",
    "\n",
    "### Algunas aplicaciones de las gráficas\n",
    "\n",
    "|  Gráfica  |   Vértice   |  Arista  |\n",
    "|:---------:|:--------:|:--------:|\n",
    "| comunicación | telefono, computadora | cable de fibra óptica  |\n",
    "|  circuitos   | entrada, registo, procesador  |  alambres  |\n",
    "|  finanzas   |  stock, divisa   |  transacciones   |\n",
    "|  trasnporte   |  aeropuerto   |  ruta aerea   |\n",
    "|  internet   |  class C network   |  conexión   |\n",
    "|  relaciones sociales   | persona  |  amistad   |\n",
    "|  molecula   | atomo  |  enlace  |"
   ]
  },
  {
   "cell_type": "markdown",
   "id": "25a42c91",
   "metadata": {},
   "source": [
    "## Primeras definiciones en teoría de gráficas\n",
    "\n",
    "**Definición:** Una gráfica $G$ es un par ordenado $G = (V(G),E(G))$, donde $V(G)$ es un conjunto finito no vacio cuyos elementos llamamos los vértices de la gráfica (también llamados nodos) y $E(G)$ es un conjunto finito de pares no ordenados de vértices cuyos elementos son las aristas de la gráfica. \n",
    "\n",
    "**Obs:** Formalmente, una arista es una pareja del estilo $\\{ u,v \\}$ con $u$ y $v$ vértices, i.e., cada elemento de $E$ es una pareja de elementos de $V$. Como estamos pensando a  $\\left\\lbrace u,v\\right\\rbrace$ como conjunto, no lo distinguimos de $\\left\\lbrace v,u\\right\\rbrace$. \n",
    "\n",
    "**Notación:** Ya que escribir $\\{u,v\\}\\in E(G)$ puede resultar un tanto tedioso cuando se trabaja con muchas aristas, diremos indistintamente que $uv \\in E(G)$ o que $vu \\in E(G)$.\n",
    "\n",
    "A $|V|$ se le llama el orden de $G$ y a $|E|$ se le llama el tamaño de $G$. Así, una gráfica con $n$ vértices es una gráfica de orden $n$ y una gráfica con $m$ aristas es una gráfica de tamaño $m$."
   ]
  }
 ],
 "metadata": {
  "kernelspec": {
   "display_name": "Python 3 (ipykernel)",
   "language": "python",
   "name": "python3"
  },
  "language_info": {
   "codemirror_mode": {
    "name": "ipython",
    "version": 3
   },
   "file_extension": ".py",
   "mimetype": "text/x-python",
   "name": "python",
   "nbconvert_exporter": "python",
   "pygments_lexer": "ipython3",
   "version": "3.9.13"
  }
 },
 "nbformat": 4,
 "nbformat_minor": 5
}
